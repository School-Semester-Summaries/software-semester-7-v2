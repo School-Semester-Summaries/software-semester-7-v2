{
 "cells": [
  {
   "cell_type": "markdown",
   "metadata": {},
   "source": [
    "todo:\n",
    "- make check if done, template matching on clouds\n",
    "- or first teach it 1v1 in marathon mode detect points or even time by every time the time refreshes you get another score?"
   ]
  },
  {
   "cell_type": "markdown",
   "metadata": {},
   "source": [
    "Environment Configuration\n",
    "- Start Dolphin\n",
    "- Load save state f1\n",
    "- in the worst case scenario set it up manually player1=ash player2=gary"
   ]
  },
  {
   "cell_type": "markdown",
   "metadata": {},
   "source": [
    "1. Imports Versioning"
   ]
  },
  {
   "cell_type": "code",
   "execution_count": 16,
   "metadata": {},
   "outputs": [
    {
     "name": "stdout",
     "output_type": "stream",
     "text": [
      "0.29.1\n",
      "3.9.2\n",
      "2.4.1+cpu\n",
      "0.19.1+cpu\n",
      "2.4.1+cpu\n",
      "0.9.54\n",
      "1.26.4\n"
     ]
    }
   ],
   "source": [
    "import gymnasium as gym\n",
    "import matplotlib\n",
    "import torch\n",
    "import torchvision\n",
    "import torchaudio\n",
    "import pyautogui\n",
    "import numpy as np\n",
    "\n",
    "print(gym.__version__)          # 0.29.1\n",
    "print(matplotlib.__version__)   # 3.9.2\n",
    "print(torch.__version__)        # 2.4.1+cpu\n",
    "print(torchvision.__version__)  # 0.19.1+cpu\n",
    "print(torchaudio.__version__)   # 2.4.1+cpu\n",
    "print(pyautogui.__version__)    # 0.9.54\n",
    "print(np.__version__)           # 1.26.4"
   ]
  },
  {
   "cell_type": "markdown",
   "metadata": {},
   "source": [
    "2. Initialise Environment, Model & Agent"
   ]
  },
  {
   "cell_type": "code",
   "execution_count": null,
   "metadata": {},
   "outputs": [
    {
     "data": {
      "text/plain": [
       "6"
      ]
     },
     "execution_count": 17,
     "metadata": {},
     "output_type": "execute_result"
    }
   ],
   "source": [
    "from DQNCNN import DQNCNN\n",
    "from DQNAgent import DQNAgent\n",
    "from PPLEnv import PPLEnv\n",
    "\n",
    "# States\n",
    "P1_CELL_BBOX_PJ64 = (348, 130, 830, 1004)\n",
    "P1_CELL_BBOX_DOLPHIN = (390, 160, 845, 960)\n",
    "STACK_SIZE = 4 # amount of frames stacked\n",
    "CHANNEL_AMOUNT = 3 # RGB\n",
    "\n",
    "env = PPLEnv(state_bbox=P1_CELL_BBOX_DOLPHIN, color_mode='color', stack_size=STACK_SIZE)\n",
    "ACTION_SIZE = env.action_space.n\n",
    "deep_q_learning_model = DQNCNN(action_size=ACTION_SIZE, stack_size=STACK_SIZE, channels=CHANNEL_AMOUNT)\n",
    "agent = DQNAgent(DQNCNN=deep_q_learning_model, action_size=ACTION_SIZE)\n",
    "env.action_space.n"
   ]
  },
  {
   "cell_type": "markdown",
   "metadata": {},
   "source": [
    "3. Training Loop"
   ]
  },
  {
   "cell_type": "code",
   "execution_count": null,
   "metadata": {},
   "outputs": [
    {
     "name": "stdout",
     "output_type": "stream",
     "text": [
      "Reward: 0\n",
      "Reward: 0\n",
      "Reward: 0\n",
      "Reward: 0\n",
      "Reward: 0\n",
      "Reward: 0\n",
      "Reward: 0\n",
      "Reward: 0\n",
      "Reward: 0\n",
      "Reward: 0\n",
      "Reward: 0\n",
      "Reward: 0\n",
      "Reward: 0\n",
      "Reward: 0\n",
      "Reward: 0\n",
      "Reward: 0\n",
      "Reward: 0\n",
      "Reward: 0\n",
      "Reward: 0\n",
      "Reward: 0\n",
      "Reward: 0\n",
      "Reward: 0\n",
      "Reward: 0\n",
      "Reward: 1\n",
      "Reward: 0\n",
      "Reward: 0\n",
      "Reward: 0\n",
      "Reward: 0\n",
      "Reward: 0\n",
      "Reward: 0\n",
      "Reward: 0\n",
      "Reward: 0\n",
      "Reward: 0\n",
      "Reward: 0\n",
      "Reward: 0\n",
      "Reward: 0\n",
      "Reward: 0\n",
      "Reward: 0\n",
      "Reward: 0\n",
      "Reward: 1\n",
      "Reward: 0\n",
      "Reward: 0\n",
      "Reward: 0\n",
      "Reward: 0\n",
      "Reward: 0\n",
      "Reward: 0\n",
      "Reward: 0\n",
      "Reward: 0\n",
      "Reward: 0\n",
      "Reward: 30\n",
      "Reward: 0\n",
      "Reward: 0\n",
      "Reward: 0\n",
      "Reward: 0\n",
      "Reward: 0\n",
      "Reward: 0\n",
      "Reward: 0\n",
      "Reward: 0\n",
      "Reward: 0\n",
      "Reward: 0\n",
      "Reward: 10\n",
      "Reward: 0\n",
      "Reward: 10\n",
      "Reward: 10\n",
      "Reward: 10\n",
      "Reward: 0\n",
      "Reward: 0\n",
      "Reward: 0\n",
      "Reward: 0\n",
      "Reward: 0\n",
      "Reward: 0\n",
      "Reward: 0\n",
      "Reward: 0\n",
      "Reward: 0\n",
      "Reward: 1\n",
      "Reward: 0\n",
      "Reward: 1\n",
      "Reward: 0\n",
      "Reward: 0\n",
      "Reward: 0\n",
      "Episode: 1/2, Total Reward: 74\n",
      "Reward: 0\n",
      "Reward: 0\n",
      "Reward: 0\n",
      "Reward: 0\n",
      "Reward: 0\n",
      "Reward: 1\n",
      "Reward: 0\n",
      "Reward: 0\n",
      "Reward: 0\n",
      "Reward: 0\n",
      "Reward: 0\n",
      "Reward: 0\n",
      "Reward: 0\n",
      "Reward: 0\n",
      "Reward: 0\n",
      "Reward: 0\n",
      "Reward: 0\n",
      "Reward: 1\n",
      "Reward: 0\n",
      "Reward: 0\n",
      "Reward: 1\n",
      "Reward: 0\n",
      "Reward: 0\n",
      "Reward: 0\n",
      "Reward: 0\n",
      "Reward: 1\n",
      "Reward: 0\n",
      "Reward: 0\n",
      "Reward: 0\n",
      "Reward: 0\n",
      "Reward: 0\n",
      "Reward: 0\n",
      "Reward: 0\n",
      "Reward: 0\n",
      "Reward: 0\n",
      "Reward: 0\n",
      "Reward: 0\n",
      "Reward: 0\n",
      "Reward: 0\n",
      "Reward: 0\n",
      "Reward: 0\n",
      "Reward: 0\n",
      "Reward: 0\n",
      "Reward: 1\n",
      "Reward: 0\n",
      "Reward: 0\n",
      "Reward: 0\n",
      "Episode: 2/2, Total Reward: 5\n"
     ]
    }
   ],
   "source": [
    "from helper import alt_tab\n",
    "import time\n",
    "import keyboard\n",
    "\n",
    "# Training loop\n",
    "num_episodes = 10\n",
    "agent.q_network.train()\n",
    "agent.epsilon = 1.0\n",
    "\n",
    "alt_tab() # alt tab to the game\n",
    "for e in range(num_episodes):\n",
    "    # Reset the environment and get the initial state (stacked frames managed by PPLEnv)\n",
    "    state, _ = env.reset()  # Initial state, includes stacked frames\n",
    "    done = False\n",
    "    \n",
    "    while not done:\n",
    "        # Use the state directly as the stacked frames (already handled by PPLEnv)\n",
    "        action = agent.select_action(state)  # Select action (can be exploration or exploitation)\n",
    "        \n",
    "        # Perform the action in the environment and get the next state and reward\n",
    "        next_state, reward, done, _, _ = env.step(action)\n",
    "        print(f'Reward: {reward}')\n",
    "\n",
    "        # Store experience in replay memory\n",
    "        agent.memory.add((state, action, reward, next_state, done))\n",
    "\n",
    "        # Train the agent with experience replay\n",
    "        agent.replay()\n",
    "\n",
    "        # Update the state (stacked frames already handled by PPLEnv)\n",
    "        state = next_state  # Update to the new state (stacked frame after the action)\n",
    "        \n",
    "\n",
    "        # Periodically update target network\n",
    "        if e % agent.update_frequency == 0:\n",
    "            agent.update_target_network()\n",
    "\n",
    "    print(f\"Episode: {e+1}/{num_episodes}, Total Reward: {env.episode_score}\")\n",
    "\n",
    "env.close()\n",
    "alt_tab() # alt tab out the game\n"
   ]
  },
  {
   "cell_type": "markdown",
   "metadata": {},
   "source": [
    "4. Save Model"
   ]
  },
  {
   "cell_type": "code",
   "execution_count": 6,
   "metadata": {},
   "outputs": [
    {
     "name": "stdout",
     "output_type": "stream",
     "text": [
      "Model saved!\n"
     ]
    }
   ],
   "source": [
    "torch.save(agent.q_network.state_dict(), \"dqn_model_lv8_f2_500.pth\")\n",
    "print(\"Model saved!\")"
   ]
  },
  {
   "cell_type": "markdown",
   "metadata": {},
   "source": [
    "5. Load Model"
   ]
  },
  {
   "cell_type": "code",
   "execution_count": 3,
   "metadata": {},
   "outputs": [
    {
     "name": "stderr",
     "output_type": "stream",
     "text": [
      "C:\\Users\\Kaan\\AppData\\Local\\Temp\\ipykernel_25668\\1819184054.py:2: FutureWarning: You are using `torch.load` with `weights_only=False` (the current default value), which uses the default pickle module implicitly. It is possible to construct malicious pickle data which will execute arbitrary code during unpickling (See https://github.com/pytorch/pytorch/blob/main/SECURITY.md#untrusted-models for more details). In a future release, the default value for `weights_only` will be flipped to `True`. This limits the functions that could be executed during unpickling. Arbitrary objects will no longer be allowed to be loaded via this mode unless they are explicitly allowlisted by the user via `torch.serialization.add_safe_globals`. We recommend you start setting `weights_only=True` for any use case where you don't have full control of the loaded file. Please open an issue on GitHub for any issues related to this experimental feature.\n",
      "  agent.q_network.load_state_dict(torch.load(\"dqn_model_500.pth\"))\n"
     ]
    },
    {
     "data": {
      "text/plain": [
       "<All keys matched successfully>"
      ]
     },
     "execution_count": 3,
     "metadata": {},
     "output_type": "execute_result"
    }
   ],
   "source": [
    "agent.q_network = DQNCNN(action_size=ACTION_SIZE, stack_size=STACK_SIZE, channels=3)\n",
    "agent.q_network.load_state_dict(torch.load(\"dqn_model_500.pth\"))"
   ]
  },
  {
   "cell_type": "markdown",
   "metadata": {},
   "source": [
    "5. Test Loop"
   ]
  },
  {
   "cell_type": "code",
   "execution_count": 9,
   "metadata": {},
   "outputs": [
    {
     "name": "stdout",
     "output_type": "stream",
     "text": [
      "Test Episode: 1/1, Total Reward: 0\n"
     ]
    }
   ],
   "source": [
    "import time\n",
    "import keyboard\n",
    "from helper import alt_tab\n",
    "\n",
    "# Test loop\n",
    "num_test_episodes = 1  # Number of test episodes\n",
    "alt_tab()  # Bring the game window to the foreground\n",
    "\n",
    "# Set agent to evaluation mode\n",
    "agent.q_network.eval()\n",
    "agent.epsilon = 0.0  # Ensure no exploration during testing (greedy policy)\n",
    "\n",
    "for e in range(num_test_episodes):\n",
    "    # Reset the environment and get the initial state\n",
    "    state, _ = env.reset()\n",
    "    done = False\n",
    "    \n",
    "    while not done:\n",
    "        # Select the best action based on the current policy\n",
    "        action = agent.select_action(state, explore=False)\n",
    "        \n",
    "        # Perform the action in the environment and get the next state and reward\n",
    "        next_state, reward, done, _, _ = env.step(action)\n",
    "        \n",
    "        # Update the state\n",
    "        state = next_state\n",
    "    \n",
    "    print(f\"Test Episode: {e+1}/{num_test_episodes}, Total Reward: {env.episode_score}\")\n",
    "\n",
    "env.close()\n",
    "alt_tab()\n"
   ]
  },
  {
   "cell_type": "markdown",
   "metadata": {},
   "source": [
    "# Results\n",
    "Reward +1 for surviving a frame\n",
    "- on average suvrives for 10 seconds without training\n",
    "- on average survives for 30 seconds after some  (500 eps)"
   ]
  },
  {
   "cell_type": "markdown",
   "metadata": {},
   "source": [
    "# You are entering the kitchen"
   ]
  },
  {
   "cell_type": "markdown",
   "metadata": {},
   "source": [
    "### Read Memory"
   ]
  },
  {
   "cell_type": "code",
   "execution_count": 27,
   "metadata": {},
   "outputs": [
    {
     "name": "stdout",
     "output_type": "stream",
     "text": [
      "0x220a1c3edb0\n",
      "Pointer Addre: 0x220a1c3f9e8\n",
      "Address Value: 2339176184304\n",
      "0x220a1c3f9f0\n",
      "Pointer Addre: 0x220a1c3fb80\n",
      "Address Value: 2339176188720\n",
      "0x220a1c40b30\n",
      "Pointer Addre: 0x220a1c41280\n",
      "Address Value: 72340172821236586\n",
      "0x101010100000b6a\n",
      "2922\n",
      "<class 'int'>\n"
     ]
    }
   ],
   "source": [
    "import ctypes\n",
    "import psutil\n",
    "\n",
    "# now read the adres\n",
    "\n",
    "# Constants\n",
    "PROCESS_ALL_ACCESS = 0x1F0FFF\n",
    "\n",
    "# Function to get the process ID\n",
    "def get_process_id(process_name):\n",
    "    for proc in psutil.process_iter(['pid', 'name']):\n",
    "        if proc.info['name'] == process_name:\n",
    "            return proc.info['pid']\n",
    "    return None\n",
    "\n",
    "# Function to read memory from a given process at a specific address\n",
    "def read_memory(process_handle, address, data_type=ctypes.c_uint64):\n",
    "    value = data_type()\n",
    "    bytes_read = ctypes.c_size_t()\n",
    "    result = ctypes.windll.kernel32.ReadProcessMemory(process_handle,ctypes.c_void_p(address),ctypes.byref(value),ctypes.sizeof(value),ctypes.byref(bytes_read))\n",
    "    if result:\n",
    "        return value.value\n",
    "    else:\n",
    "        error_code = ctypes.GetLastError()\n",
    "        print(f\"Failed to read memory. Error code: {error_code}\")\n",
    "        return None\n",
    "\n",
    "# Main validation\n",
    "process_name = \"DolphinMemoryEngine.exe\"\n",
    "process_id = get_process_id(process_name)\n",
    "\n",
    "# Open the process\n",
    "process_handle = ctypes.windll.kernel32.OpenProcess(PROCESS_ALL_ACCESS, False, process_id)\n",
    "if process_handle:\n",
    "    base_address = 0x7FF9E8A90000 # Qt6Gui.dll\n",
    "    base_offset = 0x006EA868\n",
    "    offsets = [0xC38, 0x190, 0x750]\n",
    "\n",
    "    first_pointer = base_address + base_offset\n",
    "    dereferenced_address  = read_memory(process_handle, first_pointer, data_type=ctypes.c_uint64)\n",
    "    dereferenced_address_hex = (hex(dereferenced_address))\n",
    "    print(dereferenced_address_hex)\n",
    "\n",
    "    for offset in offsets:\n",
    "        pointer = dereferenced_address + offset\n",
    "        print(f'Pointer Addre: {hex(pointer)}')\n",
    "        dereferenced_address  = read_memory(process_handle, pointer)\n",
    "        print(f'Address Value: {dereferenced_address}')\n",
    "        dereferenced_address_hex = (hex(dereferenced_address))\n",
    "        print(dereferenced_address_hex)\n",
    "a = read_memory(process_handle, pointer, data_type=ctypes.c_uint32)\n",
    "print(a)\n",
    "print(type(a))"
   ]
  },
  {
   "cell_type": "code",
   "execution_count": null,
   "metadata": {},
   "outputs": [
    {
     "name": "stdout",
     "output_type": "stream",
     "text": [
      "0.0\n"
     ]
    }
   ],
   "source": [
    "process_name = \"DolphinMemoryEngine.exe\"\n",
    "process_id = get_process_id(process_name)\n",
    "base_address = 0x7FF9E8A90000 # Qt6Gui.dll\n",
    "base_offset = 0x006EA868\n",
    "offsets = [0xC38, 0x190, 0x750]\n",
    "\n",
    "first_pointer = base_address + base_offset\n",
    "dereferenced_address  = read_memory(process_handle, first_pointer, data_type=ctypes.c_uint64)\n",
    "dereferenced_address_hex = (hex(dereferenced_address))\n",
    "\n",
    "for offset in offsets:\n",
    "    pointer = dereferenced_address + offset\n",
    "    dereferenced_address  = read_memory(process_handle, pointer)\n",
    "    dereferenced_address_hex = (hex(dereferenced_address))\n",
    "\n",
    "read_memory(process_handle, pointer, data_type=ctypes.c_uint32)\n"
   ]
  },
  {
   "cell_type": "markdown",
   "metadata": {},
   "source": [
    "### Getting Pixel Color"
   ]
  },
  {
   "cell_type": "code",
   "execution_count": 5,
   "metadata": {},
   "outputs": [
    {
     "name": "stdout",
     "output_type": "stream",
     "text": [
      "The color of the pixel at (100, 150) is: (24, 24, 24)\n"
     ]
    }
   ],
   "source": [
    "import pyautogui\n",
    "from PIL import ImageGrab\n",
    "\n",
    "# Coordinates of the pixel (x, y)\n",
    "x, y = 100, 150  # Example coordinates (100, 150)\n",
    "\n",
    "# Capture the screen at a single pixel location\n",
    "screenshot = ImageGrab.grab(bbox=(x, y, x+1, y+1))  # Captures a 1x1 pixel region\n",
    "\n",
    "# Get the color of the pixel at (x, y)\n",
    "pixel_color = screenshot.getpixel((0, 0))  # (0, 0) because it's a 1x1 region\n",
    "\n",
    "# Print the color\n",
    "print(f\"The color of the pixel at ({x}, {y}) is: {pixel_color}\")"
   ]
  },
  {
   "cell_type": "code",
   "execution_count": 26,
   "metadata": {},
   "outputs": [
    {
     "name": "stdout",
     "output_type": "stream",
     "text": [
      "The color of the pixel at (400, 965) is: (75, 89, 190)\n"
     ]
    }
   ],
   "source": [
    "import pyautogui\n",
    "from PIL import ImageGrab, ImageDraw\n",
    "\n",
    "# Coordinates of the pixel (x, y)\n",
    "x, y = 400, 965  # Example coordinates (100, 150)\n",
    "\n",
    "# Capture the screen at a single pixel location\n",
    "alt_tab()\n",
    "range=40\n",
    "screenshot = ImageGrab.grab(bbox=(400, 965, 440, 1005))  # 10x10 region centered on the pixel\n",
    "\n",
    "# Show the screenshot with the red circle\n",
    "screenshot.show()\n",
    "\n",
    "# Get the color of the pixel at (x, y)\n",
    "pixel_color = screenshot.getpixel((3, 3))  # The pixel is at the center of the 10x10 region\n",
    "\n",
    "# Print the color\n",
    "print(f\"The color of the pixel at ({x}, {y}) is: {pixel_color}\")\n",
    "alt_tab()"
   ]
  },
  {
   "cell_type": "markdown",
   "metadata": {},
   "source": [
    "### Visualize what the model sees"
   ]
  },
  {
   "cell_type": "code",
   "execution_count": 13,
   "metadata": {},
   "outputs": [
    {
     "data": {
      "image/png": "[encoded data removed]",
      "text/plain": [
       "<Figure size 500x500 with 1 Axes>"
      ]
     },
     "metadata": {},
     "output_type": "display_data"
    },
    {
     "data": {
      "image/png": "[encoded data removed]",
      "text/plain": [
       "<Figure size 500x500 with 1 Axes>"
      ]
     },
     "metadata": {},
     "output_type": "display_data"
    },
    {
     "data": {
      "image/png": "[encoded data removed]",
      "text/plain": [
       "<Figure size 500x500 with 1 Axes>"
      ]
     },
     "metadata": {},
     "output_type": "display_data"
    },
    {
     "data": {
      "image/png": "[encoded data removed]",
      "text/plain": [
       "<Figure size 500x500 with 1 Axes>"
      ]
     },
     "metadata": {},
     "output_type": "display_data"
    }
   ],
   "source": [
    "import matplotlib.pyplot as plt\n",
    "import numpy as np\n",
    "import torch\n",
    "from collections import deque\n",
    "\n",
    "\n",
    "frames = env.frames\n",
    "\n",
    "# Loop through the deque and visualize each tensor\n",
    "for i, frame in enumerate(frames):\n",
    "    # Convert the tensor to a NumPy array\n",
    "    image_array = frame.numpy()\n",
    "\n",
    "    # Rearrange dimensions from [C, H, W] to [H, W, C] for visualization\n",
    "    image_array = np.transpose(image_array, (1, 2, 0))\n",
    "\n",
    "    # Display the image\n",
    "    plt.figure(figsize=(5, 5))\n",
    "    plt.imshow(image_array)\n",
    "    plt.title(f\"Image {i + 1}\")\n",
    "    plt.axis(\"off\")\n",
    "    plt.show()"
   ]
  }
 ],
 "metadata": {
  "kernelspec": {
   "display_name": "Python 3",
   "language": "python",
   "name": "python3"
  },
  "language_info": {
   "codemirror_mode": {
    "name": "ipython",
    "version": 3
   },
   "file_extension": ".py",
   "mimetype": "text/x-python",
   "name": "python",
   "nbconvert_exporter": "python",
   "pygments_lexer": "ipython3",
   "version": "3.12.7"
  }
 },
 "nbformat": 4,
 "nbformat_minor": 2
}
